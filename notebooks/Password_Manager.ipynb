{
 "cells": [
  {
   "cell_type": "code",
   "execution_count": null,
   "id": "20d48dcc",
   "metadata": {},
   "outputs": [],
   "source": [
    "master_pwd = input(\"What is the master password? \")\n",
    "#We will use this password to encrypt our passowrds.\n",
    "\n",
    "#Let's make functions for view and add.\n",
    "def view():\n",
    "    pass\n",
    "\n",
    "def add():\n",
    "    name = input('Account Name: ')\n",
    "    pwd = input('Password: ')\n",
    "    \n",
    "    #Now we will open or create a file (if it doesn't exist) for the password.\n",
    "    #Main modes we can use to open a file are w,r,a.\n",
    "    # w: write (create a new file or overwrites the file if it already exists)\n",
    "    #r: read\n",
    "    #a: append (add something to the end of a file and create a new file if that file doesn't exist)\n",
    "    with open('passwords.txt', 'a') as f:\n",
    "        f.write(name + \"|\" + pwd + \"\\n\")\n",
    "    #Using with will automatically close the file for us once we're finished.\n",
    "    #You can also use file = open('passwords.txt', 'a') as f: , but you would have to manually close the file with file.close() which can cause potential issues.\n",
    "    #Use \\n for a line break.    \n",
    "\n",
    "while True:\n",
    "    mode = input(\"Would you like to add a new password or view existing ones, press q to quit (add/view/q)? \").lower()\n",
    "    if mode == \"q\":\n",
    "        break\n",
    "        #we can use if instead of elif because we used break\n",
    "    if mode == \"view\":\n",
    "        view()\n",
    "    elif mode == \"add\":\n",
    "        add()\n",
    "    else:\n",
    "        print(\"Invalid mode.\")\n",
    "        continue\n",
    "    "
   ]
  },
  {
   "cell_type": "code",
   "execution_count": null,
   "id": "a1207ff2",
   "metadata": {},
   "outputs": [],
   "source": []
  }
 ],
 "metadata": {
  "kernelspec": {
   "display_name": "Python 3 (ipykernel)",
   "language": "python",
   "name": "python3"
  },
  "language_info": {
   "codemirror_mode": {
    "name": "ipython",
    "version": 3
   },
   "file_extension": ".py",
   "mimetype": "text/x-python",
   "name": "python",
   "nbconvert_exporter": "python",
   "pygments_lexer": "ipython3",
   "version": "3.9.7"
  }
 },
 "nbformat": 4,
 "nbformat_minor": 5
}
