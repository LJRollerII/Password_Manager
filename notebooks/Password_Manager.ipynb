{
 "cells": [
  {
   "cell_type": "code",
   "execution_count": null,
   "id": "7a3a97d4",
   "metadata": {},
   "outputs": [],
   "source": [
    "pwd = input(\"What is the master password? \")\n",
    "#We will use this password to encrypt our passowrds.\n",
    "\n",
    "#Let's make functions for view and add.\n",
    "def view():\n",
    "    pass\n",
    "\n",
    "def add():\n",
    "    pass\n",
    "\n",
    "while True:\n",
    "    mode = input(\"Would you like to add a new password or view existing ones, press q to quit (add/view/q)? \").lower()\n",
    "    if mode == \"q\":\n",
    "        break\n",
    "        #we can use if instead of elif because we used break\n",
    "    if mode == \"view\":\n",
    "        pass\n",
    "    elif mode == \"add\":\n",
    "        pass\n",
    "    else:\n",
    "    print(\"Invalid mode.\")\n",
    "    continue\n",
    "    "
   ]
  }
 ],
 "metadata": {
  "kernelspec": {
   "display_name": "Python 3 (ipykernel)",
   "language": "python",
   "name": "python3"
  },
  "language_info": {
   "codemirror_mode": {
    "name": "ipython",
    "version": 3
   },
   "file_extension": ".py",
   "mimetype": "text/x-python",
   "name": "python",
   "nbconvert_exporter": "python",
   "pygments_lexer": "ipython3",
   "version": "3.9.7"
  }
 },
 "nbformat": 4,
 "nbformat_minor": 5
}
